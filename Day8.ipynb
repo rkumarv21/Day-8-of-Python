{
 "cells": [
  {
   "cell_type": "markdown",
   "id": "f114c0d8",
   "metadata": {},
   "source": [
    "# Day 8"
   ]
  },
  {
   "cell_type": "code",
   "execution_count": 2,
   "id": "853303ad",
   "metadata": {},
   "outputs": [
    {
     "name": "stdout",
     "output_type": "stream",
     "text": [
      "my name is Ravi\n",
      "my Ravi was given by my mama\n"
     ]
    }
   ],
   "source": [
    "# Function with some input\n",
    "def greet(name):\n",
    "    print(f\"my name is {name}\")\n",
    "    print(f\"my {name} was given by my mama\")\n",
    "greet(\"Ravi\")"
   ]
  },
  {
   "cell_type": "code",
   "execution_count": 6,
   "id": "c2030fed",
   "metadata": {},
   "outputs": [
    {
     "name": "stdout",
     "output_type": "stream",
     "text": [
      "your name is ravi?\n",
      "you live at mughalsarai?\n",
      "yes\n",
      "your name is mughalsarai?\n",
      "you live at ravi?\n"
     ]
    }
   ],
   "source": [
    "# funtion with more than one input\n",
    "def greet(name,location):\n",
    "    print(f\"your name is {name}?\")\n",
    "    print(f\"you live at {location}?\")\n",
    "greet(\"ravi\",\"mughalsarai\")\n",
    "print(\"yes\")\n",
    "greet(\"mughalsarai\",\"ravi\") # function doesn't recognise the arguements according to situation"
   ]
  },
  {
   "cell_type": "code",
   "execution_count": 9,
   "id": "baa03a4e",
   "metadata": {},
   "outputs": [
    {
     "name": "stdout",
     "output_type": "stream",
     "text": [
      "my name is Ravi and I live in Uttar Pradesh\n"
     ]
    }
   ],
   "source": [
    "# function definition with key word arguement\n",
    "def greet_with(Name, Location):\n",
    "    print(f\"my name is {Name} and I live in {Location}\")\n",
    "greet_with(Name='Ravi',Location = 'Uttar Pradesh') # here function is called with key word arguement"
   ]
  },
  {
   "cell_type": "markdown",
   "id": "133e12c4",
   "metadata": {},
   "source": [
    "### exercise 8.1"
   ]
  },
  {
   "cell_type": "code",
   "execution_count": null,
   "id": "73d52591",
   "metadata": {},
   "outputs": [],
   "source": [
    "# in this exercise i have create calculator which can tell the number of cans required to paint the area of wall\n",
    "\n",
    "def paint_calc(height,width,cover):\n",
    "  area_of_wall = height * width\n",
    "  number_of_cans = round(area_of_wall/cover)\n",
    "  print(f\"number of cans required to paint the complete area of wall is {number_of_cans}\")\n",
    "\n",
    "# Define a function called paint_calc().   \n",
    "\n",
    "\n",
    "test_h = int(input(\"Height of wall: \"))\n",
    "test_w = int(input(\"Width of wall: \"))\n",
    "coverage = 5\n",
    "paint_calc(height=test_h, width=test_w, cover=coverage)\n"
   ]
  },
  {
   "cell_type": "markdown",
   "id": "7078f8b8",
   "metadata": {},
   "source": [
    "### exercise 8.2"
   ]
  },
  {
   "cell_type": "code",
   "execution_count": 29,
   "id": "32bceb85",
   "metadata": {},
   "outputs": [
    {
     "name": "stdout",
     "output_type": "stream",
     "text": [
      "Check this number: 89878979709707097896785764672\n",
      "It's not a prime number\n"
     ]
    }
   ],
   "source": [
    "#check given number is prime number or not\n",
    "#Write your code below this line 👇\n",
    "def prime_checker(number):\n",
    "  for i in range(2,number-1):\n",
    "    if number%i==0:\n",
    "      print(\"It's not a prime number\")\n",
    "      break\n",
    "    else:\n",
    "      print(\"It's a prime number\")\n",
    "      break\n",
    "#Write your code above this line 👆\n",
    "    \n",
    "#Do NOT change any of the code below👇\n",
    "n = int(input(\"Check this number: \"))\n",
    "prime_checker(number=n)\n"
   ]
  },
  {
   "cell_type": "markdown",
   "id": "0530cbb9",
   "metadata": {},
   "source": [
    "### exercise 8.3"
   ]
  },
  {
   "cell_type": "code",
   "execution_count": null,
   "id": "19fe8735",
   "metadata": {},
   "outputs": [],
   "source": [
    "# here in this program just try to conver message from one form to another form\n",
    "# this program can be used to secure the message\n",
    "# encode the message with frword shift\n",
    "alphabet = ['a', 'b', 'c', 'd', 'e', 'f', 'g', 'h', 'i', 'j', 'k', 'l', 'm', 'n', 'o', 'p', 'q', 'r', 's', 't', 'u', 'v', 'w', 'x', 'y', 'z','a', 'b', 'c', 'd', 'e', 'f', 'g', 'h', 'i', 'j', 'k', 'l', 'm', 'n', 'o', 'p', 'q', 'r', 's', 't', 'u', 'v', 'w', 'x', 'y', 'z']\n",
    "\n",
    "direction = input(\"Type 'encode' to encrypt, type 'decode' to decrypt:\\n\")\n",
    "text = input(\"Type your message:\\n\").lower()\n",
    "shift = int(input(\"Type the shift number:\\n\"))\n",
    "\n",
    "# Create a function called 'encrypt' that takes the 'text' and 'shift' as inputs.\n",
    "def encrypt(text_file,shift_amount):\n",
    "    cypher_text = \"\"\n",
    "    for letter in text_file:\n",
    "        position = alphabet.index(letter)\n",
    "        new_position = position + shift_amount\n",
    "        new_letter = alphabet[new_position]\n",
    "        cypher_text += new_letter\n",
    "    print(f\"Your message is converted into {cypher_text}\")\n",
    "   \n",
    "encrypt(text_file = text,shift_amount = shift)\n",
    "    "
   ]
  },
  {
   "cell_type": "markdown",
   "id": "a36b57fb",
   "metadata": {},
   "source": [
    "### exercise 8.4 decode with minus shift"
   ]
  },
  {
   "cell_type": "code",
   "execution_count": null,
   "id": "e66a3829",
   "metadata": {},
   "outputs": [],
   "source": [
    "# here in this program just try to convert message from one form to another form\n",
    "# this program can be used to secure the message\n",
    "# encode the message with frword shift\n",
    "alphabet = ['a', 'b', 'c', 'd', 'e', 'f', 'g', 'h', 'i', 'j', 'k', 'l', 'm', 'n', 'o', 'p', 'q', 'r', 's', 't', 'u', 'v', 'w', 'x', 'y', 'z','a', 'b', 'c', 'd', 'e', 'f', 'g', 'h', 'i', 'j', 'k', 'l', 'm', 'n', 'o', 'p', 'q', 'r', 's', 't', 'u', 'v', 'w', 'x', 'y', 'z']\n",
    "\n",
    "direction = input(\"Type 'encode' to encrypt, type 'decode' to decrypt:\\n\")\n",
    "text = input(\"Type your message:\\n\").lower()\n",
    "shift = int(input(\"Type the shift number:\\n\"))\n",
    "\n",
    "# Create a function called 'encrypt' that takes the 'text' and 'shift' as inputs.\n",
    "def encrypt(cypher_text,shift_amount):\n",
    "    plain_text = \"\"\n",
    "    for letter in cypher_text:\n",
    "        position = alphabet.index(letter)\n",
    "        new_position = position - shift_amount\n",
    "        new_letter = alphabet[new_position]\n",
    "        plain_text += new_letter\n",
    "    print(f\"Your message is converted into {plain_text}\")\n",
    "   \n",
    "encrypt(cypher_text = text,shift_amount = shift)"
   ]
  },
  {
   "cell_type": "markdown",
   "id": "34f20ba3",
   "metadata": {},
   "source": [
    "### exercise 8.4 combination of both decode and encode"
   ]
  },
  {
   "cell_type": "code",
   "execution_count": null,
   "id": "aadc3981",
   "metadata": {},
   "outputs": [],
   "source": [
    "alphabet = ['a', 'b', 'c', 'd', 'e', 'f', 'g', 'h', 'i', 'j', 'k', 'l', 'm', 'n', 'o', 'p', 'q', 'r', 's', 't', 'u', 'v', 'w', 'x', 'y', 'z', 'a', 'b', 'c', 'd', 'e', 'f', 'g', 'h', 'i', 'j', 'k', 'l', 'm', 'n', 'o', 'p', 'q', 'r', 's', 't', 'u', 'v', 'w', 'x', 'y', 'z']\n",
    "\n",
    "direction = input(\"Type 'encode' to encrypt, type 'decode' to decrypt:\\n\")\n",
    "text = input(\"Type your message:\\n\").lower()\n",
    "shift = int(input(\"Type the shift number:\\n\"))\n",
    "\n",
    "def encrypt(plain_text, shift_amount):\n",
    "  cipher_text = \"\"\n",
    "  for letter in plain_text:\n",
    "    position = alphabet.index(letter)\n",
    "    new_position = position + shift_amount\n",
    "    cipher_text += alphabet[new_position]\n",
    "  print(f\"The encrypt text is {cipher_text}\")\n",
    "\n",
    "#Create a different function called 'decrypt' that takes the 'text' and 'shift' as inputs.\n",
    "def decrypt(plain_text, shift_amount):\n",
    "  cipher_text = \"\"\n",
    "  for letter in plain_text:\n",
    "    position = alphabet.index(letter)\n",
    "    new_position = position - shift_amount\n",
    "    cipher_text += alphabet[new_position]\n",
    "  print(f\"The decrypt text is {cipher_text}\")\n",
    "  \n",
    "\n",
    "# Check if the user wanted to encrypt or decrypt the message by checking the 'direction' variable. Then call the correct function based on that 'direction' variable. You should be able to test the code to encrypt *AND* decrypt a message.\n",
    "\n",
    "if direction == 'encode':\n",
    "  encrypt(plain_text=text,shift_amount=shift)\n",
    "else:\n",
    "  decrypt(plain_text = text, shift_amount = shift)\n"
   ]
  },
  {
   "cell_type": "markdown",
   "id": "93cbb1aa",
   "metadata": {},
   "source": [
    "### exercise 8.5 (comibine both task in one function)"
   ]
  },
  {
   "cell_type": "code",
   "execution_count": null,
   "id": "9c6db48c",
   "metadata": {},
   "outputs": [],
   "source": [
    "alphabet = ['a', 'b', 'c', 'd', 'e', 'f', 'g', 'h', 'i', 'j', 'k', 'l', 'm', 'n', 'o', 'p', 'q', 'r', 's', 't', 'u', 'v', 'w', 'x', 'y', 'z', 'a', 'b', 'c', 'd', 'e', 'f', 'g', 'h', 'i', 'j', 'k', 'l', 'm', 'n', 'o', 'p', 'q', 'r', 's', 't', 'u', 'v', 'w', 'x', 'y', 'z']\n",
    "\n",
    "direction = input(\"Type 'encode' to encrypt, type 'decode' to decrypt:\\n\")\n",
    "text = input(\"Type your message:\\n\").lower()\n",
    "shift = int(input(\"Type the shift number:\\n\"))\n",
    "\n",
    "def ceaser(direction_input, plain_text,shift_count):\n",
    "  cypher_text = \"\"\n",
    "  if direction_input=='encode':\n",
    "    shift_count *= 1\n",
    "  else:\n",
    "    shift_count *= -1\n",
    "  for letter in plain_text:\n",
    "    position  = alphabet.index(letter)\n",
    "    new_position = position + shift_count\n",
    "    cypher_text += alphabet[new_position]\n",
    "  print(f\"The {direction_input}d is given as {cypher_text}.\")\n",
    "ceaser(direction_input=direction, plain_text = text, shift_count = shift)"
   ]
  },
  {
   "cell_type": "markdown",
   "id": "18406f43",
   "metadata": {},
   "source": [
    "### Project"
   ]
  },
  {
   "cell_type": "code",
   "execution_count": null,
   "id": "5ef85ff9",
   "metadata": {},
   "outputs": [],
   "source": [
    "# complete cypher program\n",
    "alphabet = ['a', 'b', 'c', 'd', 'e', 'f', 'g', 'h', 'i', 'j', 'k', 'l', 'm', 'n', 'o', 'p', 'q', 'r', 's', 't', 'u', 'v', 'w', 'x', 'y', 'z', 'a', 'b', 'c', 'd', 'e', 'f', 'g', 'h', 'i', 'j', 'k', 'l', 'm', 'n', 'o', 'p', 'q', 'r', 's', 't', 'u', 'v', 'w', 'x', 'y', 'z']\n",
    "\n",
    "def caesar(start_text, shift_amount, cipher_direction):\n",
    "  end_text = \"\"\n",
    "  if cipher_direction == \"decode\":\n",
    "    shift_amount *= -1\n",
    "  for char in start_text:\n",
    "    if char in alphabet:\n",
    "      position = alphabet.index(char)\n",
    "      new_position = position + shift_amount\n",
    "      end_text += alphabet[new_position]\n",
    "    else:\n",
    "      end_text += char\n",
    "  print(f\"Here's the {cipher_direction}d result: {end_text}\")\n",
    "\n",
    "logo = \"\"\"           \n",
    " ,adPPYba, ,adPPYYba,  ,adPPYba, ,adPPYba, ,adPPYYba, 8b,dPPYba,  \n",
    "a8\"     \"\" \"\"     `Y8 a8P_____88 I8[    \"\" \"\"     `Y8 88P'   \"Y8  \n",
    "8b         ,adPPPPP88 8PP\"\"\"\"\"\"\"  `\"Y8ba,  ,adPPPPP88 88          \n",
    "\"8a,   ,aa 88,    ,88 \"8b,   ,aa aa    ]8I 88,    ,88 88          \n",
    " `\"Ybbd8\"' `\"8bbdP\"Y8  `\"Ybbd8\"' `\"YbbdP\"' `\"8bbdP\"Y8 88   \n",
    "            88             88                                 \n",
    "           \"\"             88                                 \n",
    "                          88                                 \n",
    " ,adPPYba, 88 8b,dPPYba,  88,dPPYba,   ,adPPYba, 8b,dPPYba,  \n",
    "a8\"     \"\" 88 88P'    \"8a 88P'    \"8a a8P_____88 88P'   \"Y8  \n",
    "8b         88 88       d8 88       88 8PP\"\"\"\"\"\"\" 88          \n",
    "\"8a,   ,aa 88 88b,   ,a8\" 88       88 \"8b,   ,aa 88          \n",
    " `\"Ybbd8\"' 88 88`YbbdP\"'  88       88  `\"Ybbd8\"' 88          \n",
    "              88                                             \n",
    "              88           \n",
    "\"\"\"\n",
    "print(logo)\n",
    "\n",
    "#Can you figure out a way to ask the user if they want to restart the cipher program?\n",
    "\n",
    "should_end = True\n",
    "while should_end:\n",
    "\n",
    "  direction = input(\"Type 'encode' to encrypt, type 'decode' to decrypt:\\n\")\n",
    "  text = input(\"Type your message:\\n\").lower()\n",
    "  shift = int(input(\"Type the shift number:\\n\"))\n",
    "  #What if the user enters a shift that is greater than the number of letters in the alphabet?\n",
    "  \n",
    "  shift = shift % 26\n",
    "\n",
    "  caesar(start_text=text, shift_amount=shift, cipher_direction=direction)\n",
    "\n",
    "  restart = input(\"Type 'yes' if you want to go again. Otherwise type 'no'.\\n\")\n",
    "  if restart == \"no\":\n",
    "    should_end = False\n",
    "    print(\"Goodbye\")\n",
    "    \n",
    "\n",
    "\n"
   ]
  },
  {
   "cell_type": "code",
   "execution_count": null,
   "id": "6d28c0c0",
   "metadata": {},
   "outputs": [],
   "source": []
  }
 ],
 "metadata": {
  "kernelspec": {
   "display_name": "Python 3 (ipykernel)",
   "language": "python",
   "name": "python3"
  },
  "language_info": {
   "codemirror_mode": {
    "name": "ipython",
    "version": 3
   },
   "file_extension": ".py",
   "mimetype": "text/x-python",
   "name": "python",
   "nbconvert_exporter": "python",
   "pygments_lexer": "ipython3",
   "version": "3.9.7"
  }
 },
 "nbformat": 4,
 "nbformat_minor": 5
}
